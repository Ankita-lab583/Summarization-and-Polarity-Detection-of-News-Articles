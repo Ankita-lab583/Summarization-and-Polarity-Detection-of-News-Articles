{
 "cells": [
  {
   "cell_type": "code",
   "execution_count": 1,
   "id": "be19b17d",
   "metadata": {},
   "outputs": [
    {
     "name": "stdout",
     "output_type": "stream",
     "text": [
      "Requirement already satisfied: textblob==0.9.0 in c:\\users\\91987\\anaconda\\lib\\site-packages (0.9.0)\n",
      "Requirement already satisfied: nltk>=3.0 in c:\\users\\91987\\anaconda\\lib\\site-packages (from textblob==0.9.0) (3.7)\n",
      "Requirement already satisfied: joblib in c:\\users\\91987\\anaconda\\lib\\site-packages (from nltk>=3.0->textblob==0.9.0) (1.1.0)\n",
      "Requirement already satisfied: regex>=2021.8.3 in c:\\users\\91987\\anaconda\\lib\\site-packages (from nltk>=3.0->textblob==0.9.0) (2022.7.9)\n",
      "Requirement already satisfied: click in c:\\users\\91987\\anaconda\\lib\\site-packages (from nltk>=3.0->textblob==0.9.0) (8.0.4)\n",
      "Requirement already satisfied: tqdm in c:\\users\\91987\\anaconda\\lib\\site-packages (from nltk>=3.0->textblob==0.9.0) (4.64.1)\n",
      "Requirement already satisfied: colorama in c:\\users\\91987\\anaconda\\lib\\site-packages (from click->nltk>=3.0->textblob==0.9.0) (0.4.5)\n",
      "Requirement already satisfied: nltk in c:\\users\\91987\\anaconda\\lib\\site-packages (3.7)\n",
      "Requirement already satisfied: click in c:\\users\\91987\\anaconda\\lib\\site-packages (from nltk) (8.0.4)\n",
      "Requirement already satisfied: regex>=2021.8.3 in c:\\users\\91987\\anaconda\\lib\\site-packages (from nltk) (2022.7.9)\n",
      "Requirement already satisfied: tqdm in c:\\users\\91987\\anaconda\\lib\\site-packages (from nltk) (4.64.1)\n",
      "Requirement already satisfied: joblib in c:\\users\\91987\\anaconda\\lib\\site-packages (from nltk) (1.1.0)\n",
      "Requirement already satisfied: colorama in c:\\users\\91987\\anaconda\\lib\\site-packages (from click->nltk) (0.4.5)\n",
      "Requirement already satisfied: newspaper3k in c:\\users\\91987\\anaconda\\lib\\site-packages (0.2.8)\n",
      "Requirement already satisfied: requests>=2.10.0 in c:\\users\\91987\\anaconda\\lib\\site-packages (from newspaper3k) (2.28.1)\n",
      "Requirement already satisfied: jieba3k>=0.35.1 in c:\\users\\91987\\anaconda\\lib\\site-packages (from newspaper3k) (0.35.1)\n",
      "Requirement already satisfied: python-dateutil>=2.5.3 in c:\\users\\91987\\anaconda\\lib\\site-packages (from newspaper3k) (2.8.2)\n",
      "Requirement already satisfied: beautifulsoup4>=4.4.1 in c:\\users\\91987\\anaconda\\lib\\site-packages (from newspaper3k) (4.11.1)\n",
      "Requirement already satisfied: feedparser>=5.2.1 in c:\\users\\91987\\anaconda\\lib\\site-packages (from newspaper3k) (6.0.10)\n",
      "Requirement already satisfied: Pillow>=3.3.0 in c:\\users\\91987\\anaconda\\lib\\site-packages (from newspaper3k) (9.2.0)\n",
      "Requirement already satisfied: PyYAML>=3.11 in c:\\users\\91987\\anaconda\\lib\\site-packages (from newspaper3k) (6.0)\n",
      "Requirement already satisfied: tinysegmenter==0.3 in c:\\users\\91987\\anaconda\\lib\\site-packages (from newspaper3k) (0.3)\n",
      "Requirement already satisfied: nltk>=3.2.1 in c:\\users\\91987\\anaconda\\lib\\site-packages (from newspaper3k) (3.7)\n",
      "Requirement already satisfied: lxml>=3.6.0 in c:\\users\\91987\\anaconda\\lib\\site-packages (from newspaper3k) (4.9.1)\n",
      "Requirement already satisfied: tldextract>=2.0.1 in c:\\users\\91987\\anaconda\\lib\\site-packages (from newspaper3k) (3.2.0)\n",
      "Requirement already satisfied: feedfinder2>=0.0.4 in c:\\users\\91987\\anaconda\\lib\\site-packages (from newspaper3k) (0.0.4)\n",
      "Requirement already satisfied: cssselect>=0.9.2 in c:\\users\\91987\\anaconda\\lib\\site-packages (from newspaper3k) (1.1.0)\n",
      "Requirement already satisfied: soupsieve>1.2 in c:\\users\\91987\\anaconda\\lib\\site-packages (from beautifulsoup4>=4.4.1->newspaper3k) (2.3.1)\n",
      "Requirement already satisfied: six in c:\\users\\91987\\anaconda\\lib\\site-packages (from feedfinder2>=0.0.4->newspaper3k) (1.16.0)\n",
      "Requirement already satisfied: sgmllib3k in c:\\users\\91987\\anaconda\\lib\\site-packages (from feedparser>=5.2.1->newspaper3k) (1.0.0)\n",
      "Requirement already satisfied: joblib in c:\\users\\91987\\anaconda\\lib\\site-packages (from nltk>=3.2.1->newspaper3k) (1.1.0)\n",
      "Requirement already satisfied: tqdm in c:\\users\\91987\\anaconda\\lib\\site-packages (from nltk>=3.2.1->newspaper3k) (4.64.1)\n",
      "Requirement already satisfied: click in c:\\users\\91987\\anaconda\\lib\\site-packages (from nltk>=3.2.1->newspaper3k) (8.0.4)\n",
      "Requirement already satisfied: regex>=2021.8.3 in c:\\users\\91987\\anaconda\\lib\\site-packages (from nltk>=3.2.1->newspaper3k) (2022.7.9)\n",
      "Requirement already satisfied: idna<4,>=2.5 in c:\\users\\91987\\anaconda\\lib\\site-packages (from requests>=2.10.0->newspaper3k) (3.3)\n",
      "Requirement already satisfied: charset-normalizer<3,>=2 in c:\\users\\91987\\anaconda\\lib\\site-packages (from requests>=2.10.0->newspaper3k) (2.0.4)\n",
      "Requirement already satisfied: urllib3<1.27,>=1.21.1 in c:\\users\\91987\\anaconda\\lib\\site-packages (from requests>=2.10.0->newspaper3k) (1.26.11)\n",
      "Requirement already satisfied: certifi>=2017.4.17 in c:\\users\\91987\\anaconda\\lib\\site-packages (from requests>=2.10.0->newspaper3k) (2022.9.14)\n",
      "Requirement already satisfied: filelock>=3.0.8 in c:\\users\\91987\\anaconda\\lib\\site-packages (from tldextract>=2.0.1->newspaper3k) (3.6.0)\n",
      "Requirement already satisfied: requests-file>=1.4 in c:\\users\\91987\\anaconda\\lib\\site-packages (from tldextract>=2.0.1->newspaper3k) (1.5.1)\n",
      "Requirement already satisfied: colorama in c:\\users\\91987\\anaconda\\lib\\site-packages (from click->nltk>=3.2.1->newspaper3k) (0.4.5)\n"
     ]
    }
   ],
   "source": [
    "!pip install textblob==0.9.0  \n",
    "!pip install nltk   \n",
    "!pip install newspaper3k   "
   ]
  },
  {
   "cell_type": "code",
   "execution_count": 2,
   "id": "397b7888",
   "metadata": {},
   "outputs": [],
   "source": [
    "import tkinter as tk  \n",
    "import nltk\n",
    "from textblob import TextBlob\n",
    "from newspaper import Article"
   ]
  },
  {
   "cell_type": "code",
   "execution_count": 3,
   "id": "67fa8796",
   "metadata": {},
   "outputs": [
    {
     "name": "stderr",
     "output_type": "stream",
     "text": [
      "[nltk_data] Downloading package punkt to\n",
      "[nltk_data]     C:\\Users\\91987\\AppData\\Roaming\\nltk_data...\n",
      "[nltk_data]   Package punkt is already up-to-date!\n"
     ]
    },
    {
     "data": {
      "text/plain": [
       "True"
      ]
     },
     "execution_count": 3,
     "metadata": {},
     "output_type": "execute_result"
    }
   ],
   "source": [
    "nltk.download('punkt')   "
   ]
  },
  {
   "cell_type": "code",
   "execution_count": 4,
   "id": "77b52384",
   "metadata": {},
   "outputs": [],
   "source": [
    "url = \"https://www.educba.com/subsets-of-artificial-intelligence/\""
   ]
  },
  {
   "cell_type": "code",
   "execution_count": 5,
   "id": "aebb66f6",
   "metadata": {},
   "outputs": [],
   "source": [
    "article = Article(url)"
   ]
  },
  {
   "cell_type": "code",
   "execution_count": 6,
   "id": "024878d6",
   "metadata": {},
   "outputs": [],
   "source": [
    "article.download()"
   ]
  },
  {
   "cell_type": "code",
   "execution_count": 7,
   "id": "e25238ca",
   "metadata": {},
   "outputs": [],
   "source": [
    "article.parse()"
   ]
  },
  {
   "cell_type": "code",
   "execution_count": 8,
   "id": "298f5f41",
   "metadata": {},
   "outputs": [],
   "source": [
    "article.nlp()"
   ]
  },
  {
   "cell_type": "code",
   "execution_count": 9,
   "id": "2762dcd9",
   "metadata": {},
   "outputs": [
    {
     "name": "stdout",
     "output_type": "stream",
     "text": [
      "Title : Subsets of Artificial Intelligence\n",
      "Author: ['Article By']\n",
      "Publication Date : 2020-05-21 02:30:20+00:00\n",
      "Summary: Introduction to Subsets of Artificial IntelligenceArtificial Intelligence as the name suggest is artificially created intelligence for machines so as to make them smart and do the tasks which humans can do.\n",
      "We will discuss some important Subsets of artificial intelligence like Machine learning, Deep learning, Natural language programming and Virtual assistance like chatbots.\n",
      "We have discussed some important subsets like machine learning, deep learning, Natural language processing and virtual assistants.\n",
      "Recommended ArticlesThis is a guide to Subsets of Artificial Intelligence.\n",
      "Here we discuss an introduction and top 4 Subsets in Artificial Intelligence.\n"
     ]
    }
   ],
   "source": [
    "print('Title :',article.title)\n",
    "print('Author:',article.authors)\n",
    "print('Publication Date :',article.publish_date)\n",
    "print('Summary:',article.summary)"
   ]
  },
  {
   "cell_type": "code",
   "execution_count": 10,
   "id": "52d8bbbd",
   "metadata": {},
   "outputs": [
    {
     "name": "stdout",
     "output_type": "stream",
     "text": [
      "Positive\n"
     ]
    }
   ],
   "source": [
    "analysis = TextBlob(article.text)\n",
    "if analysis.polarity > 0:\n",
    "    print(\"Positive\")\n",
    "elif analysis.polarity < 0:\n",
    "    print(\"Negative\")\n",
    "else :\n",
    "    print(\"Neutral\")"
   ]
  },
  {
   "cell_type": "code",
   "execution_count": 11,
   "id": "e5bbc91f",
   "metadata": {},
   "outputs": [],
   "source": [
    "def summarize():\n",
    "  url = utext.get('1.0', \"end\").strip()\n",
    "  article = Article(url)\n",
    "  article.download()\n",
    "  article.parse()\n",
    "  article.nlp()\n",
    "\n",
    "  title.config(state = 'normal')\n",
    "  author.config(state = 'normal')\n",
    "  publication.config(state = 'normal')\n",
    "  summary.config(state ='normal')\n",
    "  sentiment.config(state = 'normal')\n",
    "\n",
    "  title.delete('1.0', 'end')\n",
    "  title.insert('1.0', article.title)\n",
    "\n",
    "  author.delete('1.0', 'end')\n",
    "  author.insert('1.0',article.authors)\n",
    "\n",
    "  publication.delete('1,0', 'end')\n",
    "  publication.insert('1.0',article.publish_date)\n",
    "  \n",
    "  summary.delete('1.0', 'end')\n",
    "  summary.insert('1.0',article.text)\n",
    "  if analysis.polarity > 0:\n",
    "      sentiment.insert('1.0','Positive')\n",
    "  elif analysis.polarity < 0: \n",
    "      sentiment.insert('1.0', \"Negative\")\n",
    "  else:\n",
    "      sentiment.insert('1.0', \"Neutral\")\n",
    "\n",
    "  title.config(state = 'disabled')\n",
    "  author.config(state = 'disabled')\n",
    "  publication.config(state = 'disabled')\n",
    "  summary.config(state = 'disabled')\n",
    "  sentiment.config(state = 'disabled')         "
   ]
  },
  {
   "cell_type": "code",
   "execution_count": null,
   "id": "37a50687",
   "metadata": {},
   "outputs": [],
   "source": [
    "root = tk.Tk()\n",
    "root.title(\"News Summariser\")\n",
    "root.geometry('1200x600')\n",
    "\n",
    "\n",
    "\n",
    "tlabel = tk.Label(root, text=\"Title\")\n",
    "tlabel.pack()\n",
    "title = tk.Text(root, height=1, width=140)\n",
    "title.config(state='disabled',bg='#dddddd')\n",
    "title.pack()\n",
    "\n",
    "\n",
    "alabel = tk.Label(root, text=\"Author\")\n",
    "alabel.pack()\n",
    "author = tk.Text(root, height=1, width=140)\n",
    "author.config(state='disabled',bg='#dddddd')\n",
    "author.pack()\n",
    "\n",
    "\n",
    "plabel = tk.Label(root, text=\"Publication\")\n",
    "plabel.pack()\n",
    "publication = tk.Text(root, height=1, width=140)\n",
    "publication.config(state='disabled',bg='#dddddd')\n",
    "publication.pack()\n",
    "\n",
    "slabel = tk.Label(root, text=\"Summary\")\n",
    "slabel.pack()\n",
    "summary = tk.Text(root, height=20, width=140)\n",
    "summary.config(state='disabled',bg='#dddddd')\n",
    "summary.pack()\n",
    "\n",
    "\n",
    "selabel = tk.Label(root, text=\"Sentiment Analysis\")\n",
    "selabel.pack()\n",
    "sentiment = tk.Text(root, height=1, width=140)\n",
    "sentiment.config(state='disabled',bg='#dddddd')\n",
    "sentiment.pack()\n",
    "\n",
    "ulabel = tk.Label(root, text=\"URL\")\n",
    "ulabel.pack()\n",
    "utext = tk.Text(root, height=1, width=140)\n",
    "utext.pack()\n",
    "\n",
    "btn = tk.Button(root,text=\"Summerize\",command = summarize)\n",
    "btn.pack()\n",
    "\n",
    "\n",
    "root.mainloop()\n"
   ]
  },
  {
   "cell_type": "code",
   "execution_count": null,
   "id": "165b52b4",
   "metadata": {},
   "outputs": [],
   "source": []
  },
  {
   "cell_type": "code",
   "execution_count": null,
   "id": "b59f67ea",
   "metadata": {},
   "outputs": [],
   "source": []
  },
  {
   "cell_type": "code",
   "execution_count": null,
   "id": "37715018",
   "metadata": {},
   "outputs": [],
   "source": []
  },
  {
   "cell_type": "code",
   "execution_count": null,
   "id": "751eba68",
   "metadata": {},
   "outputs": [],
   "source": []
  }
 ],
 "metadata": {
  "kernelspec": {
   "display_name": "Python 3 (ipykernel)",
   "language": "python",
   "name": "python3"
  },
  "language_info": {
   "codemirror_mode": {
    "name": "ipython",
    "version": 3
   },
   "file_extension": ".py",
   "mimetype": "text/x-python",
   "name": "python",
   "nbconvert_exporter": "python",
   "pygments_lexer": "ipython3",
   "version": "3.9.13"
  }
 },
 "nbformat": 4,
 "nbformat_minor": 5
}
